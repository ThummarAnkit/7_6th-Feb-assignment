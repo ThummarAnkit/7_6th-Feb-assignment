{
 "cells": [
  {
   "cell_type": "markdown",
   "id": "f83ab4f5",
   "metadata": {},
   "source": [
    "# Q1. Create a function which will take a list as an argument and return the product of all the numbers after creating a flat list. Use the below-given list as an argument for your function."
   ]
  },
  {
   "cell_type": "markdown",
   "id": "165012d1",
   "metadata": {},
   "source": [
    "__list1__ = [1,2,3,4, [44,55,66, True], False, (34,56,78,89,34), {1,2,3,3,2,1}, {1:34, \"key2\": [55, 67, 78, 89], 4: (45,\n",
    "22, 61, 34)}, [56, 'data science'], 'Machine Learning']\n",
    "\n",
    "Note: you must extract numeric keys and values of the dictionary also."
   ]
  },
  {
   "cell_type": "code",
   "execution_count": 1,
   "id": "17b72d9e",
   "metadata": {},
   "outputs": [
    {
     "name": "stdout",
     "output_type": "stream",
     "text": [
      "flatList :  [1, 2, 3, 4, 44, 55, 66, 34, 56, 78, 89, 34, 1, 2, 3, 1, 34, 55, 67, 78, 89, 4, 45, 22, 61, 34, 56]\n",
      "product of all elements :  4134711838987085478833841242112000\n"
     ]
    }
   ],
   "source": [
    "from functools import reduce\n",
    "\n",
    "list1 = [1,2,3,4, [44,55,66, True], False, (34,56,78,89,34), {1,2,3,3,2,1}, {1:34, \"key2\": [55, 67, 78, 89], 4: (45, 22, 61, 34)}, [56, 'data science'], 'Machine Learning']\n",
    "\n",
    "def list_product(lst):\n",
    "    flatList = []\n",
    "    \n",
    "    for element in lst:\n",
    "        \n",
    "        if type(element) is int:\n",
    "            flatList.append(element)\n",
    "            \n",
    "        elif type(element) is dict:\n",
    "            for key, value in element.items():\n",
    "                if type(key) is int:\n",
    "                    flatList.append(key)\n",
    "                    \n",
    "                if type(value) is int:\n",
    "                    flatList.append(value) \n",
    "                elif type(value) is not str:\n",
    "                    for item in value:\n",
    "                        if type(item) is int:\n",
    "                            flatList.append(item)\n",
    "                    \n",
    "        elif type(element) is not bool:\n",
    "            for item in element:\n",
    "                if type(item) is int:\n",
    "                    flatList.append(item)\n",
    "            \n",
    "    product = reduce(lambda x,y:x*y, flatList)\n",
    "    print(\"flatList : \", flatList)\n",
    "    \n",
    "    return product\n",
    "\n",
    "ans = list_product(list1)\n",
    "print(\"product of all elements : \", ans)"
   ]
  },
  {
   "cell_type": "markdown",
   "id": "8acbca4a",
   "metadata": {},
   "source": [
    "# Q2. Write a python program for encrypting a message sent to you by your friend. The logic of encryption should be such that, for a the output should be z. For b, the output should be y. For c, the output should be x respectively. Also, the whitespace should be replaced with a dollar sign. Keep the punctuation marks unchanged.\n",
    "\n",
    "__Input Sentence__: I want to become a Data Scientist.\n",
    "<br>Encrypt the above input sentence using the program you just created.<br><br>\n",
    "__Note__: Convert the given input sentence into lowercase before encrypting. The final output should be\n",
    "lowercase."
   ]
  },
  {
   "cell_type": "code",
   "execution_count": 2,
   "id": "0e4a0be9",
   "metadata": {},
   "outputs": [
    {
     "name": "stdout",
     "output_type": "stream",
     "text": [
      "Received message :  I want to become a Data Scientist.\n",
      "encrypted message :  i$wznt$to$yexome$z$dztz$sxientist.\n"
     ]
    }
   ],
   "source": [
    "Message = \"I want to become a Data Scientist.\"\n",
    "\n",
    "def encrypt_message(message):\n",
    "    message = message.lower()\n",
    "    encrypt = \"\"\n",
    "    \n",
    "    for i in message:\n",
    "        if i=='a':\n",
    "            encrypt+=\"z\"\n",
    "        elif i=='b':\n",
    "            encrypt+=\"y\"\n",
    "        elif i=='c':\n",
    "            encrypt+=\"x\"\n",
    "        elif i==' ':\n",
    "            encrypt+=\"$\"\n",
    "        else:\n",
    "            encrypt+=i\n",
    "    \n",
    "    return encrypt\n",
    "\n",
    "ans = encrypt_message(Message)\n",
    "print(\"Received message : \", Message)\n",
    "print(\"encrypted message : \", ans)"
   ]
  },
  {
   "cell_type": "code",
   "execution_count": null,
   "id": "770e5bb9",
   "metadata": {},
   "outputs": [],
   "source": []
  }
 ],
 "metadata": {
  "kernelspec": {
   "display_name": "Python 3 (ipykernel)",
   "language": "python",
   "name": "python3"
  },
  "language_info": {
   "codemirror_mode": {
    "name": "ipython",
    "version": 3
   },
   "file_extension": ".py",
   "mimetype": "text/x-python",
   "name": "python",
   "nbconvert_exporter": "python",
   "pygments_lexer": "ipython3",
   "version": "3.9.7"
  }
 },
 "nbformat": 4,
 "nbformat_minor": 5
}
